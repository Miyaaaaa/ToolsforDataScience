{
 "cells": [
  {
   "cell_type": "markdown",
   "id": "708818d2",
   "metadata": {},
   "source": [
    "# Data Science Tools and Ecosystem\n",
    "\n",
    "\n",
    "In this notebook, Data Science Tools and Ecosystem are summarized.\n",
    "**Objectives:**"
   ]
  },
  {
   "cell_type": "markdown",
   "id": "dd7d8849",
   "metadata": {},
   "source": [
    "List popular languages for Data Science\n",
    "- Python\n",
    "- R\n",
    "- SQL\n",
    "\n",
    "## Author\n",
    "JunLing(Miya) Zhang"
   ]
  },
  {
   "cell_type": "markdown",
   "id": "499cd48f",
   "metadata": {},
   "source": [
    "Some of the popular languages that Data Scientists use are:\n",
    "1. Python\n",
    "2. R\n",
    "3. SQL\n",
    "4. Java\n",
    "5. Julia"
   ]
  },
  {
   "cell_type": "markdown",
   "id": "c6c1aaaf",
   "metadata": {},
   "source": [
    "Some of the commonly used libraries used by Data Scientists include:\n",
    "\n",
    "1. Numpy\n",
    "2. Pandas\n",
    "3. Matplotlib\n",
    "4. TensorFlow\n",
    "5. Keras\n",
    "6. PyTorch\n",
    "7. Scikit-learn"
   ]
  },
  {
   "cell_type": "markdown",
   "id": "4db97eae",
   "metadata": {},
   "source": [
    "#### Data Science Tools\n",
    "|No. | Data Science Tools |\n",
    "| ---| ------ |\n",
    "| 1 | Python |\n",
    "| 2 | R |\n",
    "| 3 | SQL |\n",
    "| 4 | Jupyter Notebooks |"
   ]
  },
  {
   "cell_type": "markdown",
   "id": "13c839bf",
   "metadata": {},
   "source": [
    "### Below are a few examples of evaluating arithmetic expressions in Python"
   ]
  },
  {
   "cell_type": "code",
   "execution_count": 2,
   "id": "32c59061",
   "metadata": {},
   "outputs": [
    {
     "data": {
      "text/plain": [
       "30"
      ]
     },
     "execution_count": 2,
     "metadata": {},
     "output_type": "execute_result"
    }
   ],
   "source": [
    "5*6"
   ]
  },
  {
   "cell_type": "code",
   "execution_count": 5,
   "id": "48c81828",
   "metadata": {},
   "outputs": [
    {
     "data": {
      "text/plain": [
       "2"
      ]
     },
     "execution_count": 5,
     "metadata": {},
     "output_type": "execute_result"
    }
   ],
   "source": [
    "20%3"
   ]
  },
  {
   "cell_type": "code",
   "execution_count": 6,
   "id": "fd2be4b3",
   "metadata": {},
   "outputs": [
    {
     "data": {
      "text/plain": [
       "30"
      ]
     },
     "execution_count": 6,
     "metadata": {},
     "output_type": "execute_result"
    }
   ],
   "source": [
    "(2+3)*6"
   ]
  },
  {
   "cell_type": "code",
   "execution_count": 9,
   "id": "7fabb808",
   "metadata": {},
   "outputs": [
    {
     "data": {
      "text/plain": [
       "17"
      ]
     },
     "execution_count": 9,
     "metadata": {},
     "output_type": "execute_result"
    }
   ],
   "source": [
    "#This a simple arithmetic expression to mutiply then add integers\n",
    "(3*4)+5"
   ]
  },
  {
   "cell_type": "code",
   "execution_count": 10,
   "id": "97a6789b",
   "metadata": {},
   "outputs": [
    {
     "data": {
      "text/plain": [
       "3"
      ]
     },
     "execution_count": 10,
     "metadata": {},
     "output_type": "execute_result"
    }
   ],
   "source": [
    "#This will convert 200 minutes to hours by diving by 60\n",
    "200//60"
   ]
  },
  {
   "cell_type": "code",
   "execution_count": null,
   "id": "a9b1ac8b",
   "metadata": {},
   "outputs": [],
   "source": []
  }
 ],
 "metadata": {
  "kernelspec": {
   "display_name": "Python 3 (ipykernel)",
   "language": "python",
   "name": "python3"
  },
  "language_info": {
   "codemirror_mode": {
    "name": "ipython",
    "version": 3
   },
   "file_extension": ".py",
   "mimetype": "text/x-python",
   "name": "python",
   "nbconvert_exporter": "python",
   "pygments_lexer": "ipython3",
   "version": "3.9.16"
  }
 },
 "nbformat": 4,
 "nbformat_minor": 5
}
https://github.com/Miyaaaaa/ToolsforDataScience/blob/main/DataScienceEcosystem.ipynb
